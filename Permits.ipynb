{
 "cells": [
  {
   "cell_type": "markdown",
   "metadata": {
    "colab_type": "text",
    "id": "l_f_M4pHJF3r"
   },
   "source": [
    "This notebook created for Coursera capstone project "
   ]
  },
  {
   "cell_type": "code",
   "execution_count": 2,
   "metadata": {
    "colab": {},
    "colab_type": "code",
    "id": "ZElFHU5zJF3s"
   },
   "outputs": [],
   "source": [
    "import pandas as pd\n",
    "import numpy as np\n",
    "from sklearn import preprocessing\n",
    "import matplotlib.pyplot as plt"
   ]
  },
  {
   "cell_type": "code",
   "execution_count": 5,
   "metadata": {
    "colab": {},
    "colab_type": "code",
    "id": "rzi-7VK0JF3v"
   },
   "outputs": [],
   "source": [
    "import os\n",
    "#os.chdir(\"/content\")"
   ]
  },
  {
   "cell_type": "code",
   "execution_count": 6,
   "metadata": {
    "colab": {
     "base_uri": "https://localhost:8080/",
     "height": 35
    },
    "colab_type": "code",
    "id": "EEvy3vE9JF3x",
    "outputId": "d34fa1ec-783e-4151-bcd7-24d421c2603c"
   },
   "outputs": [
    {
     "data": {
      "application/vnd.google.colaboratory.intrinsic+json": {
       "type": "string"
      },
      "text/plain": [
       "'/content'"
      ]
     },
     "execution_count": 6,
     "metadata": {
      "tags": []
     },
     "output_type": "execute_result"
    }
   ],
   "source": [
    "pwd"
   ]
  },
  {
   "cell_type": "code",
   "execution_count": 7,
   "metadata": {
    "colab": {
     "base_uri": "https://localhost:8080/",
     "height": 51
    },
    "colab_type": "code",
    "id": "dEXQwWR3M4u3",
    "outputId": "e2992430-41f6-42d1-8e6c-5e9120571953"
   },
   "outputs": [
    {
     "name": "stdout",
     "output_type": "stream",
     "text": [
      "\u001b[0m\u001b[01;34mdrive\u001b[0m/      outcomes.csv  \u001b[01;34msample_data\u001b[0m/\n",
      "essays.csv  projects.csv  sample_data_audit.csv\n"
     ]
    }
   ],
   "source": [
    "%ls"
   ]
  },
  {
   "cell_type": "code",
   "execution_count": 3,
   "metadata": {},
   "outputs": [
    {
     "name": "stderr",
     "output_type": "stream",
     "text": [
      "C:\\Users\\admin\\anaconda3\\lib\\site-packages\\IPython\\core\\interactiveshell.py:3063: DtypeWarning: Columns (8,9,10,15,31,33,36,51) have mixed types.Specify dtype option on import or set low_memory=False.\n",
      "  interactivity=interactivity, compiler=compiler, result=result)\n"
     ]
    }
   ],
   "source": [
    "data_project = pd.read_csv('Permit.csv')"
   ]
  },
  {
   "cell_type": "code",
   "execution_count": 6,
   "metadata": {},
   "outputs": [],
   "source": [
    "#data_project['Issuance Date'] = pd.to_datetime(data_project['Issuance Date'], format= '%Y-%m-%d')\n",
    "data_project['Expiration Date'] = pd.to_datetime(data_project['Expiration Date'], format= '%Y-%m-%d')"
   ]
  },
  {
   "cell_type": "code",
   "execution_count": 5,
   "metadata": {},
   "outputs": [
    {
     "data": {
      "text/plain": [
       "0   2010-11-05\n",
       "1   2012-01-30\n",
       "2   2008-02-04\n",
       "3   1998-08-31\n",
       "4   2007-04-30\n",
       "Name: Issuance Date, dtype: datetime64[ns]"
      ]
     },
     "execution_count": 5,
     "metadata": {},
     "output_type": "execute_result"
    }
   ],
   "source": [
    "data_project['Issuance Date'].head(5)"
   ]
  },
  {
   "cell_type": "code",
   "execution_count": 8,
   "metadata": {},
   "outputs": [],
   "source": [
    "data_project['Days'] = (data_project['Issuance Date'] - data_project['Expiration Date']).dt.days"
   ]
  },
  {
   "cell_type": "code",
   "execution_count": null,
   "metadata": {},
   "outputs": [],
   "source": [
    "#year-long permits were issued in the borough and it fraction"
   ]
  },
  {
   "cell_type": "code",
   "execution_count": 22,
   "metadata": {},
   "outputs": [
    {
     "data": {
      "text/html": [
       "<div>\n",
       "<style scoped>\n",
       "    .dataframe tbody tr th:only-of-type {\n",
       "        vertical-align: middle;\n",
       "    }\n",
       "\n",
       "    .dataframe tbody tr th {\n",
       "        vertical-align: top;\n",
       "    }\n",
       "\n",
       "    .dataframe thead th {\n",
       "        text-align: right;\n",
       "    }\n",
       "</style>\n",
       "<table border=\"1\" class=\"dataframe\">\n",
       "  <thead>\n",
       "    <tr style=\"text-align: right;\">\n",
       "      <th></th>\n",
       "      <th>Days</th>\n",
       "      <th>BOROUGH</th>\n",
       "    </tr>\n",
       "  </thead>\n",
       "  <tbody>\n",
       "    <tr>\n",
       "      <th>212664</th>\n",
       "      <td>3878.0</td>\n",
       "      <td>BRONX</td>\n",
       "    </tr>\n",
       "    <tr>\n",
       "      <th>216129</th>\n",
       "      <td>365.0</td>\n",
       "      <td>BROOKLYN</td>\n",
       "    </tr>\n",
       "    <tr>\n",
       "      <th>551132</th>\n",
       "      <td>35970.0</td>\n",
       "      <td>BROOKLYN</td>\n",
       "    </tr>\n",
       "    <tr>\n",
       "      <th>1176212</th>\n",
       "      <td>2773.0</td>\n",
       "      <td>MANHATTAN</td>\n",
       "    </tr>\n",
       "    <tr>\n",
       "      <th>1349083</th>\n",
       "      <td>32522.0</td>\n",
       "      <td>MANHATTAN</td>\n",
       "    </tr>\n",
       "  </tbody>\n",
       "</table>\n",
       "</div>"
      ],
      "text/plain": [
       "            Days    BOROUGH\n",
       "212664    3878.0      BRONX\n",
       "216129     365.0   BROOKLYN\n",
       "551132   35970.0   BROOKLYN\n",
       "1176212   2773.0  MANHATTAN\n",
       "1349083  32522.0  MANHATTAN"
      ]
     },
     "execution_count": 22,
     "metadata": {},
     "output_type": "execute_result"
    }
   ],
   "source": [
    "data_project.loc[data_project['Days'] >= 365,['Days','BOROUGH']]"
   ]
  },
  {
   "cell_type": "code",
   "execution_count": 24,
   "metadata": {},
   "outputs": [
    {
     "data": {
      "text/plain": [
       "0.00020588620422429079"
      ]
     },
     "execution_count": 24,
     "metadata": {},
     "output_type": "execute_result"
    }
   ],
   "source": [
    "(5/data_project.shape[0])*100"
   ]
  },
  {
   "cell_type": "code",
   "execution_count": 31,
   "metadata": {},
   "outputs": [
    {
     "data": {
      "text/html": [
       "<div>\n",
       "<style scoped>\n",
       "    .dataframe tbody tr th:only-of-type {\n",
       "        vertical-align: middle;\n",
       "    }\n",
       "\n",
       "    .dataframe tbody tr th {\n",
       "        vertical-align: top;\n",
       "    }\n",
       "\n",
       "    .dataframe thead th {\n",
       "        text-align: right;\n",
       "    }\n",
       "</style>\n",
       "<table border=\"1\" class=\"dataframe\">\n",
       "  <thead>\n",
       "    <tr style=\"text-align: right;\">\n",
       "      <th></th>\n",
       "      <th>BIN</th>\n",
       "      <th>Issuance Date</th>\n",
       "      <th>Filing Status</th>\n",
       "      <th>Permit Status</th>\n",
       "    </tr>\n",
       "  </thead>\n",
       "  <tbody>\n",
       "    <tr>\n",
       "      <th>2287066</th>\n",
       "      <td>5158958</td>\n",
       "      <td>2013-04-24</td>\n",
       "      <td>INITIAL</td>\n",
       "      <td>ISSUED</td>\n",
       "    </tr>\n",
       "    <tr>\n",
       "      <th>2343909</th>\n",
       "      <td>5158958</td>\n",
       "      <td>2012-06-29</td>\n",
       "      <td>INITIAL</td>\n",
       "      <td>ISSUED</td>\n",
       "    </tr>\n",
       "    <tr>\n",
       "      <th>2361775</th>\n",
       "      <td>5158958</td>\n",
       "      <td>2012-06-18</td>\n",
       "      <td>INITIAL</td>\n",
       "      <td>ISSUED</td>\n",
       "    </tr>\n",
       "    <tr>\n",
       "      <th>2428340</th>\n",
       "      <td>5158958</td>\n",
       "      <td>2013-04-24</td>\n",
       "      <td>INITIAL</td>\n",
       "      <td>ISSUED</td>\n",
       "    </tr>\n",
       "  </tbody>\n",
       "</table>\n",
       "</div>"
      ],
      "text/plain": [
       "             BIN Issuance Date Filing Status Permit Status\n",
       "2287066  5158958    2013-04-24       INITIAL        ISSUED\n",
       "2343909  5158958    2012-06-29       INITIAL        ISSUED\n",
       "2361775  5158958    2012-06-18       INITIAL        ISSUED\n",
       "2428340  5158958    2013-04-24       INITIAL        ISSUED"
      ]
     },
     "execution_count": 31,
     "metadata": {},
     "output_type": "execute_result"
    }
   ],
   "source": [
    "data_project.loc[data_project['BIN'] == 5158958,['BIN','Issuance Date','Filing Status','Permit Status']]"
   ]
  },
  {
   "cell_type": "code",
   "execution_count": 5,
   "metadata": {},
   "outputs": [
    {
     "data": {
      "text/html": [
       "<div>\n",
       "<style scoped>\n",
       "    .dataframe tbody tr th:only-of-type {\n",
       "        vertical-align: middle;\n",
       "    }\n",
       "\n",
       "    .dataframe tbody tr th {\n",
       "        vertical-align: top;\n",
       "    }\n",
       "\n",
       "    .dataframe thead th {\n",
       "        text-align: right;\n",
       "    }\n",
       "</style>\n",
       "<table border=\"1\" class=\"dataframe\">\n",
       "  <thead>\n",
       "    <tr style=\"text-align: right;\">\n",
       "      <th></th>\n",
       "      <th>BOROUGH</th>\n",
       "      <th>BIN</th>\n",
       "      <th>Number</th>\n",
       "      <th>Street</th>\n",
       "      <th>Job #</th>\n",
       "      <th>Job doc. #</th>\n",
       "      <th>Job Type</th>\n",
       "      <th>Self_Cert</th>\n",
       "      <th>Block</th>\n",
       "      <th>Lot</th>\n",
       "      <th>...</th>\n",
       "      <th>Owner’s House State</th>\n",
       "      <th>Owner’s House Zip Code</th>\n",
       "      <th>Owner's Phone #</th>\n",
       "      <th>DOBRunDate</th>\n",
       "      <th>Latitude</th>\n",
       "      <th>Longitude</th>\n",
       "      <th>Council District</th>\n",
       "      <th>Census Tract</th>\n",
       "      <th>BBL</th>\n",
       "      <th>NTA</th>\n",
       "    </tr>\n",
       "  </thead>\n",
       "  <tbody>\n",
       "    <tr>\n",
       "      <th>0</th>\n",
       "      <td>BRONX</td>\n",
       "      <td>2118801</td>\n",
       "      <td>2960</td>\n",
       "      <td>WEBSTER AVENUE</td>\n",
       "      <td>201088492</td>\n",
       "      <td>4</td>\n",
       "      <td>NB</td>\n",
       "      <td>NaN</td>\n",
       "      <td>3274</td>\n",
       "      <td>4</td>\n",
       "      <td>...</td>\n",
       "      <td>NaN</td>\n",
       "      <td>NaN</td>\n",
       "      <td>NaN</td>\n",
       "      <td>2016-01-03T00:00:00</td>\n",
       "      <td>40.867490</td>\n",
       "      <td>-73.883225</td>\n",
       "      <td>11.0</td>\n",
       "      <td>425.0</td>\n",
       "      <td>2.032740e+09</td>\n",
       "      <td>Norwood                                       ...</td>\n",
       "    </tr>\n",
       "    <tr>\n",
       "      <th>1</th>\n",
       "      <td>BRONX</td>\n",
       "      <td>2096812</td>\n",
       "      <td>100</td>\n",
       "      <td>DEKRUIF PLACE</td>\n",
       "      <td>200716298</td>\n",
       "      <td>2</td>\n",
       "      <td>A2</td>\n",
       "      <td>NaN</td>\n",
       "      <td>5141</td>\n",
       "      <td>120</td>\n",
       "      <td>...</td>\n",
       "      <td>NaN</td>\n",
       "      <td>NaN</td>\n",
       "      <td>NaN</td>\n",
       "      <td>2016-01-03T00:00:00</td>\n",
       "      <td>40.875769</td>\n",
       "      <td>-73.828899</td>\n",
       "      <td>12.0</td>\n",
       "      <td>46201.0</td>\n",
       "      <td>2.051410e+09</td>\n",
       "      <td>Co-op City                                    ...</td>\n",
       "    </tr>\n",
       "    <tr>\n",
       "      <th>2</th>\n",
       "      <td>BRONX</td>\n",
       "      <td>2008604</td>\n",
       "      <td>1898</td>\n",
       "      <td>HARRISON AVENUE</td>\n",
       "      <td>200974650</td>\n",
       "      <td>2</td>\n",
       "      <td>A2</td>\n",
       "      <td>NaN</td>\n",
       "      <td>2869</td>\n",
       "      <td>87</td>\n",
       "      <td>...</td>\n",
       "      <td>NaN</td>\n",
       "      <td>NaN</td>\n",
       "      <td>NaN</td>\n",
       "      <td>2016-01-03T00:00:00</td>\n",
       "      <td>40.852603</td>\n",
       "      <td>-73.911461</td>\n",
       "      <td>14.0</td>\n",
       "      <td>243.0</td>\n",
       "      <td>2.028690e+09</td>\n",
       "      <td>University Heights-Morris Heights             ...</td>\n",
       "    </tr>\n",
       "    <tr>\n",
       "      <th>3</th>\n",
       "      <td>BRONX</td>\n",
       "      <td>2007652</td>\n",
       "      <td>1998</td>\n",
       "      <td>MORRIS AVENUE</td>\n",
       "      <td>200278118</td>\n",
       "      <td>2</td>\n",
       "      <td>A1</td>\n",
       "      <td>NaN</td>\n",
       "      <td>2807</td>\n",
       "      <td>15</td>\n",
       "      <td>...</td>\n",
       "      <td>NaN</td>\n",
       "      <td>NaN</td>\n",
       "      <td>NaN</td>\n",
       "      <td>2016-01-03T00:00:00</td>\n",
       "      <td>40.851661</td>\n",
       "      <td>-73.906937</td>\n",
       "      <td>14.0</td>\n",
       "      <td>241.0</td>\n",
       "      <td>2.028070e+09</td>\n",
       "      <td>Mount Hope                                    ...</td>\n",
       "    </tr>\n",
       "    <tr>\n",
       "      <th>4</th>\n",
       "      <td>BRONX</td>\n",
       "      <td>2084155</td>\n",
       "      <td>565</td>\n",
       "      <td>WEST  235 STREET</td>\n",
       "      <td>201119173</td>\n",
       "      <td>2</td>\n",
       "      <td>A2</td>\n",
       "      <td>Y</td>\n",
       "      <td>5794</td>\n",
       "      <td>484</td>\n",
       "      <td>...</td>\n",
       "      <td>NaN</td>\n",
       "      <td>NaN</td>\n",
       "      <td>NaN</td>\n",
       "      <td>2016-01-03T00:00:00</td>\n",
       "      <td>40.885720</td>\n",
       "      <td>-73.910270</td>\n",
       "      <td>11.0</td>\n",
       "      <td>297.0</td>\n",
       "      <td>2.057940e+09</td>\n",
       "      <td>Spuyten Duyvil-Kingsbridge                    ...</td>\n",
       "    </tr>\n",
       "  </tbody>\n",
       "</table>\n",
       "<p>5 rows × 60 columns</p>\n",
       "</div>"
      ],
      "text/plain": [
       "  BOROUGH      BIN Number            Street      Job #  Job doc. # Job Type  \\\n",
       "0   BRONX  2118801   2960    WEBSTER AVENUE  201088492           4       NB   \n",
       "1   BRONX  2096812    100     DEKRUIF PLACE  200716298           2       A2   \n",
       "2   BRONX  2008604   1898   HARRISON AVENUE  200974650           2       A2   \n",
       "3   BRONX  2007652   1998     MORRIS AVENUE  200278118           2       A1   \n",
       "4   BRONX  2084155    565  WEST  235 STREET  201119173           2       A2   \n",
       "\n",
       "  Self_Cert Block  Lot  ... Owner’s House State  Owner’s House Zip Code  \\\n",
       "0       NaN  3274    4  ...                 NaN                     NaN   \n",
       "1       NaN  5141  120  ...                 NaN                     NaN   \n",
       "2       NaN  2869   87  ...                 NaN                     NaN   \n",
       "3       NaN  2807   15  ...                 NaN                     NaN   \n",
       "4         Y  5794  484  ...                 NaN                     NaN   \n",
       "\n",
       "   Owner's Phone #           DOBRunDate   Latitude  Longitude  \\\n",
       "0              NaN  2016-01-03T00:00:00  40.867490 -73.883225   \n",
       "1              NaN  2016-01-03T00:00:00  40.875769 -73.828899   \n",
       "2              NaN  2016-01-03T00:00:00  40.852603 -73.911461   \n",
       "3              NaN  2016-01-03T00:00:00  40.851661 -73.906937   \n",
       "4              NaN  2016-01-03T00:00:00  40.885720 -73.910270   \n",
       "\n",
       "  Council District Census Tract           BBL  \\\n",
       "0             11.0        425.0  2.032740e+09   \n",
       "1             12.0      46201.0  2.051410e+09   \n",
       "2             14.0        243.0  2.028690e+09   \n",
       "3             14.0        241.0  2.028070e+09   \n",
       "4             11.0        297.0  2.057940e+09   \n",
       "\n",
       "                                                 NTA  \n",
       "0  Norwood                                       ...  \n",
       "1  Co-op City                                    ...  \n",
       "2  University Heights-Morris Heights             ...  \n",
       "3  Mount Hope                                    ...  \n",
       "4  Spuyten Duyvil-Kingsbridge                    ...  \n",
       "\n",
       "[5 rows x 60 columns]"
      ]
     },
     "execution_count": 5,
     "metadata": {},
     "output_type": "execute_result"
    }
   ],
   "source": [
    "data_project.head(5)"
   ]
  },
  {
   "cell_type": "code",
   "execution_count": null,
   "metadata": {},
   "outputs": [],
   "source": [
    "## Ratio of Renewed permits holders of corporates vs Individuals"
   ]
  },
  {
   "cell_type": "code",
   "execution_count": null,
   "metadata": {},
   "outputs": [],
   "source": [
    "data_project[\"Owner's Business Type\"]=(data_project[\"Owner's Business Type\"]).astype(str)\n",
    "data_project['Filing Status'] = (data_project['Filing Status']).astype(str) "
   ]
  },
  {
   "cell_type": "code",
   "execution_count": null,
   "metadata": {},
   "outputs": [],
   "source": [
    "data_project.loc[data_project['Filing Status'] =='RENEWAL',\"Owner's Business Type\"].value_counts()"
   ]
  },
  {
   "cell_type": "code",
   "execution_count": null,
   "metadata": {},
   "outputs": [],
   "source": [
    "data_project.loc[data_project['Filing Status'] =='RENEWAL',\"Owner's Business Type\"].value_counts()/data_project[data_project['Filing Status']=='RENEWAL'].shape[0]"
   ]
  },
  {
   "cell_type": "code",
   "execution_count": null,
   "metadata": {},
   "outputs": [],
   "source": [
    "186449/172545"
   ]
  },
  {
   "cell_type": "code",
   "execution_count": null,
   "metadata": {},
   "outputs": [],
   "source": [
    "#If Job start date is 11 then permitt expires within 60 days\n",
    "# Days = data_project['Issuance Date'] - data_project['Expiration Date']\n",
    "# Month = data_project['Job Start Date'].dt.month"
   ]
  },
  {
   "cell_type": "code",
   "execution_count": null,
   "metadata": {},
   "outputs": [],
   "source": [
    "data_project['Issuance Date'] = pd.to_datetime(data_project['Issuance Date'], format= '%Y-%m-%d')\n",
    "data_project['Expiration Date'] = pd.to_datetime(data_project['Expiration Date'], format= '%Y-%m-%d')\n",
    "data_project['Start Date'] = pd.to_datetime(data_project['Job Start Date'],yearfirst=True, format = '%Y-%m-%d',errors='coerce')\n",
    "data_project['Days'] = (data_project['Issuance Date'] - data_project['Expiration Date']).dt.days"
   ]
  },
  {
   "cell_type": "code",
   "execution_count": null,
   "metadata": {},
   "outputs": [],
   "source": [
    "data_project['Start Mon'] = data_project['Start Date'].dt.month\n",
    "data_project.loc[data_project['Start Mon'].isnull(),'Start Mon']= 1.0"
   ]
  },
  {
   "cell_type": "code",
   "execution_count": null,
   "metadata": {},
   "outputs": [],
   "source": [
    "tabl = pd.crosstab(data_project['Start Mon'],data_project['Days'])"
   ]
  },
  {
   "cell_type": "code",
   "execution_count": null,
   "metadata": {},
   "outputs": [],
   "source": [
    "data_project['Start Mon'] = data_project['Start Date'].dt.month\n",
    "data_project.loc[data_project['Start Mon'].isnull(),'Start Mon']= 1.0"
   ]
  },
  {
   "cell_type": "code",
   "execution_count": null,
   "metadata": {},
   "outputs": [],
   "source": [
    "def funone(x):\n",
    "    if x >= 0 and x <= 60:\n",
    "        return 60\n",
    "    else:\n",
    "        return x"
   ]
  },
  {
   "cell_type": "code",
   "execution_count": null,
   "metadata": {},
   "outputs": [],
   "source": [
    "dt_60 = data_project['Days'].apply(funone)\n",
    "Mon_nov = data_project.loc[data_project['Start Mon']==11.0,'Start Mon']"
   ]
  },
  {
   "cell_type": "code",
   "execution_count": null,
   "metadata": {},
   "outputs": [],
   "source": [
    "tab2 = pd.crosstab(dt_60,Mon_nov)"
   ]
  },
  {
   "cell_type": "code",
   "execution_count": null,
   "metadata": {},
   "outputs": [],
   "source": [
    "from scipy.stats import chi2_contingency\n",
    "chi2,p,dof,e=chi2_contingency(tab2.values)\n",
    "print(p)\n",
    "print('p values is {} chi squ {}' .format(p,chi2))"
   ]
  },
  {
   "cell_type": "code",
   "execution_count": null,
   "metadata": {},
   "outputs": [],
   "source": [
    "#number of permits issued in 2010 and Total residenc - per Zipcode"
   ]
  },
  {
   "cell_type": "code",
   "execution_count": null,
   "metadata": {},
   "outputs": [],
   "source": [
    "data_project['Resd'] = data_project['Residential'].astype('str')\n",
    "data_project.loc[data_project['Resd'].isnull(),'Resd']='No'\n",
    "data_project['Resd'] = data_project['Resd'].replace('nan','No')\n",
    "dp=data_project.loc[data_project['filldt'] == 2010,['Resd','Postcode']]"
   ]
  },
  {
   "cell_type": "code",
   "execution_count": null,
   "metadata": {},
   "outputs": [],
   "source": [
    "def funtwo(x):\n",
    "    if x == 'YES':\n",
    "        return 1.0\n",
    "    else:\n",
    "        return 0.0"
   ]
  },
  {
   "cell_type": "code",
   "execution_count": null,
   "metadata": {},
   "outputs": [],
   "source": [
    "dp['Resd']=dp['Resd'].apply(funtwo)"
   ]
  },
  {
   "cell_type": "code",
   "execution_count": null,
   "metadata": {},
   "outputs": [],
   "source": [
    "((dp.groupby('Postcode')['Resd'].sum()/dp.groupby('Postcode')['Resd'].count())<0.05).count()"
   ]
  },
  {
   "cell_type": "code",
   "execution_count": null,
   "metadata": {},
   "outputs": [],
   "source": [
    "#1990- 2012 - Job start in Jul and Aug Vs Job start in Jan and Feb - per year \n",
    "#High ratio  "
   ]
  },
  {
   "cell_type": "code",
   "execution_count": null,
   "metadata": {},
   "outputs": [],
   "source": [
    "data_project['Start Date'] = pd.to_datetime(data_project['Job Start Date'],yearfirst=True, format = '%Y-%m-%d',errors='coerce')\n",
    "data_project['Start Mon'] = data_project['Start Date'].dt.month\n",
    "data_project['Start Yr'] = data_project['Start Date'].dt.year\n",
    "data_project.loc[data_project['Start Mon'].isnull(),'Start Mon']= 1.0\n",
    "data_project.loc[data_project['Start Yr'].isnull(),'Start Yr']=1990.0\n",
    "dt=data_project.loc[(data_project['Start Yr'] >= 1990.0) & (data_project['Start Yr'] <= 2012.0),:]"
   ]
  },
  {
   "cell_type": "code",
   "execution_count": null,
   "metadata": {},
   "outputs": [],
   "source": [
    "dtt=pd.DataFrame(pd.crosstab(dt['Start Yr'],dt['Start Mon']).T)\n",
    "# Year and rario\n",
    "dtt.iloc[0:2,:].sum(axis=0)/dtt.iloc[7:9,:].sum(axis=0)\n",
    "#Highest raatio\n",
    "max(dtt.iloc[0:2,:].sum(axis=0)/dtt.iloc[7:9,:].sum(axis=0))"
   ]
  }
 ],
 "metadata": {
  "colab": {
   "name": "Capstone.ipynb",
   "provenance": []
  },
  "kernelspec": {
   "display_name": "Python 3",
   "language": "python",
   "name": "python3"
  },
  "language_info": {
   "codemirror_mode": {
    "name": "ipython",
    "version": 3
   },
   "file_extension": ".py",
   "mimetype": "text/x-python",
   "name": "python",
   "nbconvert_exporter": "python",
   "pygments_lexer": "ipython3",
   "version": "3.7.6"
  }
 },
 "nbformat": 4,
 "nbformat_minor": 1
}
