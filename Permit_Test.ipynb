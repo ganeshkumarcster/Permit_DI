{
 "cells": [
  {
   "cell_type": "code",
   "execution_count": 42,
   "metadata": {
    "_cell_guid": "79c7e3d0-c299-4dcb-8224-4455121ee9b0",
    "_uuid": "d629ff2d2480ee46fbb7e2d37f6b5fab8052498a"
   },
   "outputs": [],
   "source": [
    "import pandas as pd\n",
    "import numpy as np\n",
    "import datetime"
   ]
  },
  {
   "cell_type": "code",
   "execution_count": 43,
   "metadata": {},
   "outputs": [],
   "source": [
    "data_project = pd.read_csv('Permit.csv')"
   ]
  },
  {
   "cell_type": "code",
   "execution_count": null,
   "metadata": {},
   "outputs": [],
   "source": [
    "dt=data_project.values\n",
    "#del data_project\n",
    "#data_project=dt"
   ]
  },
  {
   "cell_type": "code",
   "execution_count": null,
   "metadata": {},
   "outputs": [],
   "source": [
    "data_project['Issuance Date'] = pd.to_datetime(data_project['Issuance Date'], format= '%Y-%m-%d')\n",
    "data_project['Expiration Date'] = pd.to_datetime(data_project['Expiration Date'], format= '%Y-%m-%d')\n",
    "data_project['Days'] = (data_project['Issuance Date'] - data_project['Expiration Date']).dt.days"
   ]
  },
  {
   "cell_type": "code",
   "execution_count": null,
   "metadata": {},
   "outputs": [],
   "source": [
    "#year-long permits were issued in the borough and it fraction"
   ]
  },
  {
   "cell_type": "code",
   "execution_count": null,
   "metadata": {},
   "outputs": [],
   "source": [
    "data_project.loc[data_project['Days'] >= 365,['Days','BOROUGH']]"
   ]
  },
  {
   "cell_type": "code",
   "execution_count": null,
   "metadata": {},
   "outputs": [],
   "source": [
    "(5/data_project.shape[0])*100"
   ]
  },
  {
   "cell_type": "code",
   "execution_count": 4,
   "metadata": {},
   "outputs": [],
   "source": [
    "data_project[\"Owner's Business Type\"]=(data_project[\"Owner's Business Type\"]).astype(str)\n",
    "data_project['Filing Status'] = (data_project['Filing Status']).astype(str) "
   ]
  },
  {
   "cell_type": "code",
   "execution_count": 6,
   "metadata": {},
   "outputs": [
    {
     "data": {
      "text/plain": [
       "CORPORATION           186449\n",
       "INDIVIDUAL            172545\n",
       "PARTNERSHIP           110741\n",
       "OTHER                  51612\n",
       "nan                    34981\n",
       "OTHER GOV'T AGENCY      9614\n",
       "CONDO/CO-OP             6405\n",
       "NYCHA                   2596\n",
       "HPD                      848\n",
       "DCAS                     333\n",
       "NY STATE                 287\n",
       "HHC                      279\n",
       "DOE                      220\n",
       "NYC AGENCY                28\n",
       "NYCHA/HHC                  5\n",
       "Name: Owner's Business Type, dtype: int64"
      ]
     },
     "execution_count": 6,
     "metadata": {},
     "output_type": "execute_result"
    }
   ],
   "source": [
    "data_project.loc[data_project['Filing Status'] =='RENEWAL',\"Owner's Business Type\"].value_counts()"
   ]
  },
  {
   "cell_type": "code",
   "execution_count": 7,
   "metadata": {},
   "outputs": [],
   "source": [
    "#data_project.loc[data_project['Filing Status'] =='RENEWAL',\"Owner's Business Type\"].value_counts()/data_project[data_project['Filing Status']=='RENEWAL'].shape[0]"
   ]
  },
  {
   "cell_type": "code",
   "execution_count": null,
   "metadata": {},
   "outputs": [],
   "source": []
  },
  {
   "cell_type": "code",
   "execution_count": 44,
   "metadata": {},
   "outputs": [],
   "source": [
    "data_project['Issuance Date'] = pd.to_datetime(data_project['Issuance Date'], format= '%Y-%m-%d')\n",
    "data_project['Expiration Date'] = pd.to_datetime(data_project['Expiration Date'], format= '%Y-%m-%d')\n",
    "data_project['Start Date'] = pd.to_datetime(data_project['Job Start Date'],yearfirst=True, format = '%Y-%m-%d',errors='coerce')\n",
    "data_project['Days'] = (data_project['Issuance Date'] - data_project['Expiration Date']).dt.days"
   ]
  },
  {
   "cell_type": "code",
   "execution_count": 45,
   "metadata": {},
   "outputs": [],
   "source": [
    "data_project['Start Mon'] = data_project['Start Date'].dt.month\n",
    "data_project['Start Yr'] = data_project['Start Date'].dt.year"
   ]
  },
  {
   "cell_type": "code",
   "execution_count": 51,
   "metadata": {},
   "outputs": [],
   "source": [
    "data_project.loc[data_project['Start Mon'].isnull(),'Start Mon']= 1.0\n",
    "data_project.loc[data_project['Start Yr'].isnull(),'Start Yr']=1990.0"
   ]
  },
  {
   "cell_type": "code",
   "execution_count": 74,
   "metadata": {},
   "outputs": [],
   "source": [
    "#data_project['Start Yr'].isnull().sum()\n",
    "dt=data_project.loc[(data_project['Start Yr'] >= 1990.0) & (data_project['Start Yr'] <= 2012.0),:]"
   ]
  },
  {
   "cell_type": "code",
   "execution_count": 77,
   "metadata": {},
   "outputs": [],
   "source": [
    "dtt=pd.DataFrame(pd.crosstab(dt['Start Yr'],dt['Start Mon']).T)\n"
   ]
  },
  {
   "cell_type": "code",
   "execution_count": 99,
   "metadata": {},
   "outputs": [
    {
     "data": {
      "text/plain": [
       "1.0228585626436424"
      ]
     },
     "execution_count": 99,
     "metadata": {},
     "output_type": "execute_result"
    }
   ],
   "source": [
    "max(dtt.iloc[0:2,:].sum(axis=0)/dtt.iloc[7:9,:].sum(axis=0))"
   ]
  },
  {
   "cell_type": "code",
   "execution_count": 92,
   "metadata": {},
   "outputs": [
    {
     "data": {
      "text/plain": [
       "Start Yr\n",
       "1990.0     5834\n",
       "1991.0     8409\n",
       "1992.0     9631\n",
       "1993.0    10951\n",
       "1994.0    11173\n",
       "1995.0    11849\n",
       "1996.0    11903\n",
       "1997.0    12942\n",
       "1998.0    14991\n",
       "1999.0    17416\n",
       "2000.0    20356\n",
       "2001.0    16099\n",
       "2002.0    21707\n",
       "2003.0    22916\n",
       "2004.0    26713\n",
       "2005.0    29551\n",
       "2006.0    30001\n",
       "2007.0    28730\n",
       "2008.0    24433\n",
       "2009.0    21341\n",
       "2010.0    22992\n",
       "2011.0    23390\n",
       "2012.0    21310\n",
       "dtype: int64"
      ]
     },
     "execution_count": 92,
     "metadata": {},
     "output_type": "execute_result"
    }
   ],
   "source": [
    "dtt.iloc[7:9,:].sum(axis=0)"
   ]
  },
  {
   "cell_type": "code",
   "execution_count": null,
   "metadata": {},
   "outputs": [],
   "source": [
    "#tabl = pd.crosstab(data_project['Start Mon'],data_project['Days'])"
   ]
  },
  {
   "cell_type": "markdown",
   "metadata": {},
   "source": []
  },
  {
   "cell_type": "code",
   "execution_count": null,
   "metadata": {},
   "outputs": [],
   "source": [
    "data_project['Days'].sort_values(ascending=False).head(15)"
   ]
  },
  {
   "cell_type": "code",
   "execution_count": 35,
   "metadata": {},
   "outputs": [],
   "source": [
    "def funone(x):\n",
    "    if x >= 0 and x <= 60:\n",
    "        return 60\n",
    "    else:\n",
    "        return x"
   ]
  },
  {
   "cell_type": "code",
   "execution_count": 36,
   "metadata": {},
   "outputs": [],
   "source": [
    "dt_60 = data_project['Days'].apply(funone)\n",
    "#dt_less_60 = data_project.loc[data_project['Days'] >= 0 & data_project['Days']<=60,'Days']"
   ]
  },
  {
   "cell_type": "code",
   "execution_count": 37,
   "metadata": {},
   "outputs": [],
   "source": [
    "Mon_nov = data_project.loc[data_project['Start Mon']==11.0,'Start Mon']"
   ]
  },
  {
   "cell_type": "code",
   "execution_count": 38,
   "metadata": {},
   "outputs": [],
   "source": [
    "tab2 = pd.crosstab(dt_60,Mon_nov)"
   ]
  },
  {
   "cell_type": "code",
   "execution_count": 40,
   "metadata": {},
   "outputs": [],
   "source": [
    "#tab2"
   ]
  },
  {
   "cell_type": "code",
   "execution_count": 41,
   "metadata": {},
   "outputs": [
    {
     "name": "stdout",
     "output_type": "stream",
     "text": [
      "1.0\n",
      "p values is 1.0 chi squ 0.0\n"
     ]
    }
   ],
   "source": [
    "from scipy.stats import chi2_contingency\n",
    "chi2,p,dof,e=chi2_contingency(tab2.values)\n",
    "print(p)\n",
    "print('p values is {} chi squ {}' .format(p,chi2))"
   ]
  },
  {
   "cell_type": "code",
   "execution_count": null,
   "metadata": {},
   "outputs": [],
   "source": [
    "data_project[data_project['Start Mon']==11.0 ]['Days'].sort_values()\n"
   ]
  },
  {
   "cell_type": "code",
   "execution_count": 32,
   "metadata": {},
   "outputs": [],
   "source": [
    "def funone(m,d):\n",
    "    \n",
    "    if (m == 11.0):\n",
    "        \n",
    "        if (d > 0.0 and d <= 60.0):\n",
    "            return 1.0\n",
    "        else:\n",
    "            return 0.0\n",
    "    else:\n",
    "        return 0.0"
   ]
  },
  {
   "cell_type": "code",
   "execution_count": 33,
   "metadata": {},
   "outputs": [],
   "source": [
    "data_project['Chi2'] = data_project.apply(lambda x:funone(x['Start Mon'],x['Days']),axis=1)"
   ]
  },
  {
   "cell_type": "code",
   "execution_count": 29,
   "metadata": {},
   "outputs": [],
   "source": [
    "#data_project.loc[data_project['Days']>=0.0 and data_project['Days']<=60.0),['Start Mon']].value_counts()"
   ]
  },
  {
   "cell_type": "code",
   "execution_count": 23,
   "metadata": {},
   "outputs": [
    {
     "data": {
      "text/plain": [
       "194602"
      ]
     },
     "execution_count": 23,
     "metadata": {},
     "output_type": "execute_result"
    }
   ],
   "source": [
    "data_project[data_project['Start Mon']==11.0].shape[0]"
   ]
  },
  {
   "cell_type": "code",
   "execution_count": 34,
   "metadata": {},
   "outputs": [
    {
     "data": {
      "text/plain": [
       "0.0    12.479430\n",
       "1.0     0.000021\n",
       "Name: Chi2, dtype: float64"
      ]
     },
     "execution_count": 34,
     "metadata": {},
     "output_type": "execute_result"
    }
   ],
   "source": [
    "data_project['Chi2'].value_counts()/data_project[data_project['Start Mon']==11.0].shape[0]"
   ]
  },
  {
   "cell_type": "code",
   "execution_count": 12,
   "metadata": {},
   "outputs": [
    {
     "data": {
      "text/plain": [
       "dtype('float64')"
      ]
     },
     "execution_count": 12,
     "metadata": {},
     "output_type": "execute_result"
    }
   ],
   "source": [
    "data_project['Days'].dtypes"
   ]
  },
  {
   "cell_type": "code",
   "execution_count": 4,
   "metadata": {},
   "outputs": [],
   "source": [
    "data_project['filldt'] = pd.to_datetime(data_project['Filing Date'],yearfirst=True, format = '%Y-%m-%d',errors='coerce')"
   ]
  },
  {
   "cell_type": "code",
   "execution_count": 5,
   "metadata": {},
   "outputs": [],
   "source": [
    "data_project['filldt'] = data_project['filldt'].dt.year"
   ]
  },
  {
   "cell_type": "code",
   "execution_count": 47,
   "metadata": {},
   "outputs": [
    {
     "data": {
      "text/plain": [
       "227"
      ]
     },
     "execution_count": 47,
     "metadata": {},
     "output_type": "execute_result"
    }
   ],
   "source": [
    "data_project['Postcode'].nunique()"
   ]
  },
  {
   "cell_type": "code",
   "execution_count": 6,
   "metadata": {},
   "outputs": [
    {
     "data": {
      "text/plain": [
       "10022.0    3295\n",
       "10013.0    3037\n",
       "10003.0    2949\n",
       "10011.0    2826\n",
       "10019.0    2790\n",
       "           ... \n",
       "10162.0       3\n",
       "11251.0       2\n",
       "10048.0       1\n",
       "10278.0       1\n",
       "0.0           1\n",
       "Name: Postcode, Length: 220, dtype: int64"
      ]
     },
     "execution_count": 6,
     "metadata": {},
     "output_type": "execute_result"
    }
   ],
   "source": [
    "data_project.loc[data_project['filldt'] == 2010,'Postcode'].value_counts()"
   ]
  },
  {
   "cell_type": "code",
   "execution_count": 6,
   "metadata": {},
   "outputs": [
    {
     "data": {
      "text/plain": [
       "0"
      ]
     },
     "execution_count": 6,
     "metadata": {},
     "output_type": "execute_result"
    }
   ],
   "source": [
    "data_project['Resd'] = data_project['Residential'].astype('str')\n",
    "data_project.loc[data_project['Resd'].isnull(),'Resd']='No'\n",
    "data_project['Resd'].isnull().sum()"
   ]
  },
  {
   "cell_type": "code",
   "execution_count": 7,
   "metadata": {},
   "outputs": [
    {
     "data": {
      "text/plain": [
       "No     1655754\n",
       "YES     772772\n",
       "Name: Resd, dtype: int64"
      ]
     },
     "execution_count": 7,
     "metadata": {},
     "output_type": "execute_result"
    }
   ],
   "source": [
    "data_project['Resd'] = data_project['Resd'].replace('nan','No')\n",
    "data_project['Resd'].value_counts()"
   ]
  },
  {
   "cell_type": "code",
   "execution_count": 8,
   "metadata": {},
   "outputs": [],
   "source": [
    "dp=data_project.loc[data_project['filldt'] == 2010,['Resd','Postcode']]"
   ]
  },
  {
   "cell_type": "code",
   "execution_count": 17,
   "metadata": {},
   "outputs": [],
   "source": [
    "def funtwo(x):\n",
    "    if x == 'YES':\n",
    "        return 1.0\n",
    "    else:\n",
    "        return 0.0\n",
    "    "
   ]
  },
  {
   "cell_type": "code",
   "execution_count": 18,
   "metadata": {},
   "outputs": [],
   "source": [
    "dp['Resd']=dp['Resd'].apply(funtwo)"
   ]
  },
  {
   "cell_type": "code",
   "execution_count": 29,
   "metadata": {},
   "outputs": [
    {
     "data": {
      "text/plain": [
       "220"
      ]
     },
     "execution_count": 29,
     "metadata": {},
     "output_type": "execute_result"
    }
   ],
   "source": [
    "((dp.groupby('Postcode')['Resd'].sum()/dp.groupby('Postcode')['Resd'].count())<0.05).count()"
   ]
  },
  {
   "cell_type": "code",
   "execution_count": null,
   "metadata": {},
   "outputs": [],
   "source": []
  },
  {
   "cell_type": "code",
   "execution_count": null,
   "metadata": {},
   "outputs": [],
   "source": []
  },
  {
   "cell_type": "code",
   "execution_count": null,
   "metadata": {},
   "outputs": [],
   "source": []
  }
 ],
 "metadata": {
  "kernelspec": {
   "display_name": "Python 3",
   "language": "python",
   "name": "python3"
  },
  "language_info": {
   "codemirror_mode": {
    "name": "ipython",
    "version": 3
   },
   "file_extension": ".py",
   "mimetype": "text/x-python",
   "name": "python",
   "nbconvert_exporter": "python",
   "pygments_lexer": "ipython3",
   "version": "3.7.6"
  }
 },
 "nbformat": 4,
 "nbformat_minor": 4
}
